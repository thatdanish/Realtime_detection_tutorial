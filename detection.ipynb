{
 "metadata": {
  "language_info": {
   "codemirror_mode": {
    "name": "ipython",
    "version": 3
   },
   "file_extension": ".py",
   "mimetype": "text/x-python",
   "name": "python",
   "nbconvert_exporter": "python",
   "pygments_lexer": "ipython3",
   "version": 3
  },
  "orig_nbformat": 2,
  "kernelspec": {
   "name": "python_defaultSpec_1596439019396",
   "display_name": "Python 3.7.7 64-bit ('ai42': conda)"
  }
 },
 "nbformat": 4,
 "nbformat_minor": 2,
 "cells": [
  {
   "cell_type": "code",
   "execution_count": 8,
   "metadata": {
    "tags": []
   },
   "outputs": [],
   "source": [
    "import cv2\n",
    "import numpy as np\n",
    "from keras.models import load_model"
   ]
  },
  {
   "cell_type": "code",
   "execution_count": 9,
   "metadata": {},
   "outputs": [],
   "source": [
    "model = load_model(\"gender_detection.model\")"
   ]
  },
  {
   "cell_type": "code",
   "execution_count": 10,
   "metadata": {},
   "outputs": [],
   "source": [
    "cap = cv2.VideoCapture('specimens/vid1.mp4')"
   ]
  },
  {
   "cell_type": "code",
   "execution_count": 11,
   "metadata": {},
   "outputs": [],
   "source": [
    "facecascade = cv2.CascadeClassifier('haarcascade_frontalface_default.xml')"
   ]
  },
  {
   "cell_type": "code",
   "execution_count": 17,
   "metadata": {
    "tags": []
   },
   "outputs": [
    {
     "output_type": "stream",
     "name": "stdout",
     "text": "female\n"
    },
    {
     "output_type": "error",
     "ename": "AttributeError",
     "evalue": "module 'cv2.cv2' has no attribute 'waitkey'",
     "traceback": [
      "\u001b[1;31m---------------------------------------------------------------------------\u001b[0m",
      "\u001b[1;31mAttributeError\u001b[0m                            Traceback (most recent call last)",
      "\u001b[1;32m<ipython-input-17-6bcffe4d623c>\u001b[0m in \u001b[0;36m<module>\u001b[1;34m\u001b[0m\n\u001b[0;32m     47\u001b[0m             \u001b[0mcv2\u001b[0m\u001b[1;33m.\u001b[0m\u001b[0mimshow\u001b[0m\u001b[1;33m(\u001b[0m\u001b[1;34m'frame'\u001b[0m\u001b[1;33m,\u001b[0m \u001b[0mcv2\u001b[0m\u001b[1;33m.\u001b[0m\u001b[0mcvtColor\u001b[0m\u001b[1;33m(\u001b[0m\u001b[0mrgb_frame\u001b[0m\u001b[1;33m,\u001b[0m \u001b[0mcv2\u001b[0m\u001b[1;33m.\u001b[0m\u001b[0mCOLOR_RGB2BGR\u001b[0m\u001b[1;33m)\u001b[0m\u001b[1;33m)\u001b[0m\u001b[1;33m\u001b[0m\u001b[1;33m\u001b[0m\u001b[0m\n\u001b[0;32m     48\u001b[0m \u001b[1;33m\u001b[0m\u001b[0m\n\u001b[1;32m---> 49\u001b[1;33m             \u001b[1;32mif\u001b[0m \u001b[0mcv2\u001b[0m\u001b[1;33m.\u001b[0m\u001b[0mwaitkey\u001b[0m\u001b[1;33m(\u001b[0m\u001b[1;36m1\u001b[0m\u001b[1;33m)\u001b[0m \u001b[1;33m==\u001b[0m \u001b[1;36m27\u001b[0m\u001b[1;33m:\u001b[0m\u001b[1;33m\u001b[0m\u001b[1;33m\u001b[0m\u001b[0m\n\u001b[0m\u001b[0;32m     50\u001b[0m                  \u001b[1;32mbreak\u001b[0m\u001b[1;33m\u001b[0m\u001b[1;33m\u001b[0m\u001b[0m\n\u001b[0;32m     51\u001b[0m \u001b[1;33m\u001b[0m\u001b[0m\n",
      "\u001b[1;31mAttributeError\u001b[0m: module 'cv2.cv2' has no attribute 'waitkey'"
     ]
    }
   ],
   "source": [
    "while(True):\n",
    "    ret, frame = cap.read()\n",
    "    gray = cv2.cvtColor(frame,cv2.COLOR_BGR2GRAY)\n",
    "    faces = facecascade.detectMultiScale(gray,1.1,5,minSize=(30,30),\n",
    "                                            flags=cv2.CASCADE_SCALE_IMAGE)\n",
    "    \n",
    "    \n",
    "    # create a rgb frame since our model expects its input image\n",
    "    # to be in RGB format\n",
    "    rgb_frame = cv2.cvtColor(frame,cv2.COLOR_BGR2RGB)\n",
    "\n",
    "    cropped_faces = []\n",
    "\n",
    " # Draw a rectangle around the faces\n",
    "    for (x,y,w,h) in faces:\n",
    "        # increase the width, height of face region by some pixels.\n",
    "        # we want a bit more pixels rather than just the face\n",
    "\n",
    "        extra_pad = 40\n",
    "        x = max(1,x-extra_pad)\n",
    "        y = max(1,y-extra_pad)\n",
    "        width = min(frame.shape[1],x+w+extra_pad*2)\n",
    "        height = min(frame.shape[0],y+h+extra_pad*2)\n",
    "        cv2.rectangle(rgb_frame,(x,y),(width,height),(0,255,255),2)\n",
    "\n",
    "         # crop the face\n",
    "\n",
    "        cropped = rgb_frame[y:height,x:width].astype('float32')\n",
    "        cropped = cv2.resize(cropped,(128,128))\n",
    "\n",
    "        cropped = cropped/255\n",
    "        cropped_faces.append(cropped)\n",
    "\n",
    "        cv2.putText(rgb_frame,'Total faces = {}'.format(len(faces)),(10,40),cv2.FONT_HERSHEY_COMPLEX,1,(30,255,200),2)\n",
    "\n",
    "\n",
    "    if len(faces) > 0 and 1 == 1:\n",
    "        predictions = model.predict(np.array(cropped_faces))\n",
    "        predictions = np.where(predictions.flatten()<0.5,'male','female')\n",
    "        \n",
    "        for i, prediction in enumerate(predictions):\n",
    "           # print(prediction)\n",
    "            text = prediction\n",
    "\n",
    "            x,y,_,_ = faces[i]\n",
    "            cv2.putText(rgb_frame,text,(x,y), cv2.FONT_HERSHEY_COMPLEX, 1, (0, 255, 0), 2)\n",
    "            cv2.imshow('frame', cv2.cvtColor(rgb_frame, cv2.COLOR_RGB2BGR))\n",
    "\n",
    "      if cv2.waitKey(1) == 27:\n",
    "          break\n",
    "\n",
    "cap.release()\n",
    "cv2.destroyAllWindows()\n"
   ]
  },
  {
   "cell_type": "code",
   "execution_count": null,
   "metadata": {},
   "outputs": [],
   "source": []
  }
 ]
}